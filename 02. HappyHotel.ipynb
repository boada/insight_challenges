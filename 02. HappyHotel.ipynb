{
 "cells": [
  {
   "cell_type": "markdown",
   "metadata": {},
   "source": [
    "# Happy Hotel\n",
    "\n",
    "You've just joined the data team at a large hotel chain. Your specific team is embedded in the CX (customer experience) division. Each day you receive hundreds of reviews of your 10 hotels from your customers. Each review consists of a free-form text review and a report of \"happy\" or \"not happy\". A product manager on your team wants to understand each hotel's performance at a more granular level; they want to build a product to identify topics within reviews. All of your reviews are unlabeled, and it's infeasible to label them by hand.\n",
    "\n",
    "* Design and execute a method to identify topics within the reviews.\n",
    "* For each topic, find a robust means of assigning a score to each hotel in that topic.\n",
    "* For each of the ten hotels, what specific-to-that-hotel recommendations would you make to their general managers?\n",
    "* Engineering Challenge: How would you design this system to update over time? How would you persist topics from one timestep/update to another? How would you design your scores so they can meaningfully understand when they’re doing better?"
   ]
  },
  {
   "cell_type": "code",
   "execution_count": 212,
   "metadata": {},
   "outputs": [],
   "source": [
    "%matplotlib inline\n",
    "import pandas as pd\n",
    "import os\n",
    "import numpy as np\n",
    "\n",
    "import matplotlib.pyplot as plt"
   ]
  },
  {
   "cell_type": "code",
   "execution_count": 213,
   "metadata": {},
   "outputs": [],
   "source": [
    "happy = pd.read_csv('./data/hotel_happy_reviews.csv')"
   ]
  },
  {
   "cell_type": "code",
   "execution_count": 214,
   "metadata": {},
   "outputs": [],
   "source": [
    "nothappy = pd.read_csv('./data/hotel_not_happy_reviews.csv')"
   ]
  },
  {
   "cell_type": "code",
   "execution_count": 215,
   "metadata": {},
   "outputs": [
    {
     "name": "stdout",
     "output_type": "stream",
     "text": [
      "<class 'pandas.core.frame.DataFrame'>\n",
      "RangeIndex: 26521 entries, 0 to 26520\n",
      "Data columns (total 4 columns):\n",
      "User_ID        26521 non-null object\n",
      "Description    26521 non-null object\n",
      "Is_Response    26521 non-null object\n",
      "hotel_ID       26521 non-null int64\n",
      "dtypes: int64(1), object(3)\n",
      "memory usage: 828.9+ KB\n"
     ]
    }
   ],
   "source": [
    "happy.info()"
   ]
  },
  {
   "cell_type": "code",
   "execution_count": 216,
   "metadata": {},
   "outputs": [
    {
     "name": "stdout",
     "output_type": "stream",
     "text": [
      "<class 'pandas.core.frame.DataFrame'>\n",
      "RangeIndex: 12411 entries, 0 to 12410\n",
      "Data columns (total 4 columns):\n",
      "User_ID        12411 non-null object\n",
      "Description    12411 non-null object\n",
      "Is_Response    12411 non-null object\n",
      "hotel_ID       12411 non-null int64\n",
      "dtypes: int64(1), object(3)\n",
      "memory usage: 388.0+ KB\n"
     ]
    }
   ],
   "source": [
    "nothappy.info()"
   ]
  },
  {
   "cell_type": "code",
   "execution_count": 217,
   "metadata": {},
   "outputs": [
    {
     "data": {
      "text/html": [
       "<div>\n",
       "<style scoped>\n",
       "    .dataframe tbody tr th:only-of-type {\n",
       "        vertical-align: middle;\n",
       "    }\n",
       "\n",
       "    .dataframe tbody tr th {\n",
       "        vertical-align: top;\n",
       "    }\n",
       "\n",
       "    .dataframe thead th {\n",
       "        text-align: right;\n",
       "    }\n",
       "</style>\n",
       "<table border=\"1\" class=\"dataframe\">\n",
       "  <thead>\n",
       "    <tr style=\"text-align: right;\">\n",
       "      <th></th>\n",
       "      <th>User_ID</th>\n",
       "      <th>Description</th>\n",
       "      <th>Is_Response</th>\n",
       "      <th>hotel_ID</th>\n",
       "    </tr>\n",
       "  </thead>\n",
       "  <tbody>\n",
       "    <tr>\n",
       "      <th>0</th>\n",
       "      <td>id10329</td>\n",
       "      <td>Stayed here with husband and sons on the way t...</td>\n",
       "      <td>happy</td>\n",
       "      <td>8</td>\n",
       "    </tr>\n",
       "    <tr>\n",
       "      <th>1</th>\n",
       "      <td>id10331</td>\n",
       "      <td>We had - rooms. One was very nice and clearly ...</td>\n",
       "      <td>happy</td>\n",
       "      <td>3</td>\n",
       "    </tr>\n",
       "    <tr>\n",
       "      <th>2</th>\n",
       "      <td>id10333</td>\n",
       "      <td>My wife &amp; I stayed in this glorious city a whi...</td>\n",
       "      <td>happy</td>\n",
       "      <td>3</td>\n",
       "    </tr>\n",
       "    <tr>\n",
       "      <th>3</th>\n",
       "      <td>id10334</td>\n",
       "      <td>My boyfriend and I stayed at the Fairmont on a...</td>\n",
       "      <td>happy</td>\n",
       "      <td>7</td>\n",
       "    </tr>\n",
       "    <tr>\n",
       "      <th>4</th>\n",
       "      <td>id10336</td>\n",
       "      <td>Steps off Times Square, nice rooms, stayed - n...</td>\n",
       "      <td>happy</td>\n",
       "      <td>3</td>\n",
       "    </tr>\n",
       "    <tr>\n",
       "      <th>5</th>\n",
       "      <td>id10337</td>\n",
       "      <td>Me, the Wife and - kids stayed here on Valenti...</td>\n",
       "      <td>happy</td>\n",
       "      <td>7</td>\n",
       "    </tr>\n",
       "    <tr>\n",
       "      <th>6</th>\n",
       "      <td>id10339</td>\n",
       "      <td>I highly recommend the Hawthorne Terrace as an...</td>\n",
       "      <td>happy</td>\n",
       "      <td>8</td>\n",
       "    </tr>\n",
       "    <tr>\n",
       "      <th>7</th>\n",
       "      <td>id10340</td>\n",
       "      <td>I found the hotel clean and nicely located. Go...</td>\n",
       "      <td>happy</td>\n",
       "      <td>3</td>\n",
       "    </tr>\n",
       "    <tr>\n",
       "      <th>8</th>\n",
       "      <td>id10341</td>\n",
       "      <td>Stayed at the Elan from --th to --th October a...</td>\n",
       "      <td>happy</td>\n",
       "      <td>1</td>\n",
       "    </tr>\n",
       "    <tr>\n",
       "      <th>9</th>\n",
       "      <td>id10344</td>\n",
       "      <td>We stayed here for - nights and were really ha...</td>\n",
       "      <td>happy</td>\n",
       "      <td>5</td>\n",
       "    </tr>\n",
       "  </tbody>\n",
       "</table>\n",
       "</div>"
      ],
      "text/plain": [
       "   User_ID                                        Description Is_Response  \\\n",
       "0  id10329  Stayed here with husband and sons on the way t...       happy   \n",
       "1  id10331  We had - rooms. One was very nice and clearly ...       happy   \n",
       "2  id10333  My wife & I stayed in this glorious city a whi...       happy   \n",
       "3  id10334  My boyfriend and I stayed at the Fairmont on a...       happy   \n",
       "4  id10336  Steps off Times Square, nice rooms, stayed - n...       happy   \n",
       "5  id10337  Me, the Wife and - kids stayed here on Valenti...       happy   \n",
       "6  id10339  I highly recommend the Hawthorne Terrace as an...       happy   \n",
       "7  id10340  I found the hotel clean and nicely located. Go...       happy   \n",
       "8  id10341  Stayed at the Elan from --th to --th October a...       happy   \n",
       "9  id10344  We stayed here for - nights and were really ha...       happy   \n",
       "\n",
       "   hotel_ID  \n",
       "0         8  \n",
       "1         3  \n",
       "2         3  \n",
       "3         7  \n",
       "4         3  \n",
       "5         7  \n",
       "6         8  \n",
       "7         3  \n",
       "8         1  \n",
       "9         5  "
      ]
     },
     "execution_count": 217,
     "metadata": {},
     "output_type": "execute_result"
    }
   ],
   "source": [
    "happy.head(10)"
   ]
  },
  {
   "cell_type": "code",
   "execution_count": 218,
   "metadata": {},
   "outputs": [
    {
     "data": {
      "text/html": [
       "<div>\n",
       "<style scoped>\n",
       "    .dataframe tbody tr th:only-of-type {\n",
       "        vertical-align: middle;\n",
       "    }\n",
       "\n",
       "    .dataframe tbody tr th {\n",
       "        vertical-align: top;\n",
       "    }\n",
       "\n",
       "    .dataframe thead th {\n",
       "        text-align: right;\n",
       "    }\n",
       "</style>\n",
       "<table border=\"1\" class=\"dataframe\">\n",
       "  <thead>\n",
       "    <tr style=\"text-align: right;\">\n",
       "      <th></th>\n",
       "      <th>User_ID</th>\n",
       "      <th>Description</th>\n",
       "      <th>Is_Response</th>\n",
       "      <th>hotel_ID</th>\n",
       "    </tr>\n",
       "  </thead>\n",
       "  <tbody>\n",
       "    <tr>\n",
       "      <th>0</th>\n",
       "      <td>id10326</td>\n",
       "      <td>The room was kind of clean but had a VERY stro...</td>\n",
       "      <td>not happy</td>\n",
       "      <td>3</td>\n",
       "    </tr>\n",
       "    <tr>\n",
       "      <th>1</th>\n",
       "      <td>id10327</td>\n",
       "      <td>I stayed at the Crown Plaza April -- - April -...</td>\n",
       "      <td>not happy</td>\n",
       "      <td>9</td>\n",
       "    </tr>\n",
       "    <tr>\n",
       "      <th>2</th>\n",
       "      <td>id10328</td>\n",
       "      <td>I booked this hotel through Hotwire at the low...</td>\n",
       "      <td>not happy</td>\n",
       "      <td>3</td>\n",
       "    </tr>\n",
       "    <tr>\n",
       "      <th>3</th>\n",
       "      <td>id10330</td>\n",
       "      <td>My girlfriends and I stayed here to celebrate ...</td>\n",
       "      <td>not happy</td>\n",
       "      <td>3</td>\n",
       "    </tr>\n",
       "    <tr>\n",
       "      <th>4</th>\n",
       "      <td>id10332</td>\n",
       "      <td>My husband and I have stayed in this hotel a f...</td>\n",
       "      <td>not happy</td>\n",
       "      <td>7</td>\n",
       "    </tr>\n",
       "    <tr>\n",
       "      <th>5</th>\n",
       "      <td>id10335</td>\n",
       "      <td>Wonderful staff, great location, but it was de...</td>\n",
       "      <td>not happy</td>\n",
       "      <td>3</td>\n",
       "    </tr>\n",
       "    <tr>\n",
       "      <th>6</th>\n",
       "      <td>id10338</td>\n",
       "      <td>We stay at the Jolly Madison over the Xmas per...</td>\n",
       "      <td>not happy</td>\n",
       "      <td>8</td>\n",
       "    </tr>\n",
       "    <tr>\n",
       "      <th>7</th>\n",
       "      <td>id10342</td>\n",
       "      <td>Priceline sent us to this hotel after acceptin...</td>\n",
       "      <td>not happy</td>\n",
       "      <td>7</td>\n",
       "    </tr>\n",
       "    <tr>\n",
       "      <th>8</th>\n",
       "      <td>id10343</td>\n",
       "      <td>Old and cheap furnitures,our chair was simply ...</td>\n",
       "      <td>not happy</td>\n",
       "      <td>3</td>\n",
       "    </tr>\n",
       "    <tr>\n",
       "      <th>9</th>\n",
       "      <td>id10345</td>\n",
       "      <td>The service was fine, but the hotel itself fel...</td>\n",
       "      <td>not happy</td>\n",
       "      <td>3</td>\n",
       "    </tr>\n",
       "  </tbody>\n",
       "</table>\n",
       "</div>"
      ],
      "text/plain": [
       "   User_ID                                        Description Is_Response  \\\n",
       "0  id10326  The room was kind of clean but had a VERY stro...   not happy   \n",
       "1  id10327  I stayed at the Crown Plaza April -- - April -...   not happy   \n",
       "2  id10328  I booked this hotel through Hotwire at the low...   not happy   \n",
       "3  id10330  My girlfriends and I stayed here to celebrate ...   not happy   \n",
       "4  id10332  My husband and I have stayed in this hotel a f...   not happy   \n",
       "5  id10335  Wonderful staff, great location, but it was de...   not happy   \n",
       "6  id10338  We stay at the Jolly Madison over the Xmas per...   not happy   \n",
       "7  id10342  Priceline sent us to this hotel after acceptin...   not happy   \n",
       "8  id10343  Old and cheap furnitures,our chair was simply ...   not happy   \n",
       "9  id10345  The service was fine, but the hotel itself fel...   not happy   \n",
       "\n",
       "   hotel_ID  \n",
       "0         3  \n",
       "1         9  \n",
       "2         3  \n",
       "3         3  \n",
       "4         7  \n",
       "5         3  \n",
       "6         8  \n",
       "7         7  \n",
       "8         3  \n",
       "9         3  "
      ]
     },
     "execution_count": 218,
     "metadata": {},
     "output_type": "execute_result"
    }
   ],
   "source": [
    "nothappy.head(10)"
   ]
  },
  {
   "cell_type": "code",
   "execution_count": 222,
   "metadata": {},
   "outputs": [],
   "source": [
    "# let's combine the good and bad reviews\n",
    "\n",
    "reviews = happy.append(nothappy, ignore_index=True)\n",
    "reviews.reset_index(inplace=True)"
   ]
  },
  {
   "cell_type": "code",
   "execution_count": 231,
   "metadata": {},
   "outputs": [],
   "source": [
    "import seaborn as sns"
   ]
  },
  {
   "cell_type": "markdown",
   "metadata": {},
   "source": [
    "# Quick EDA"
   ]
  },
  {
   "cell_type": "code",
   "execution_count": 239,
   "metadata": {},
   "outputs": [
    {
     "data": {
      "image/png": "[encoded data removed]",
      "text/plain": [
       "<Figure size 720x360 with 1 Axes>"
      ]
     },
     "metadata": {
      "needs_background": "light"
     },
     "output_type": "display_data"
    }
   ],
   "source": [
    "# look at the people who are and aren't happy with their stay\n",
    "\n",
    "hotel_review_counts = reviews.groupby(['hotel_ID','Is_Response'])['index'].count()\n",
    "hotel_review_counts = pd.DataFrame(hotel_review_counts).reset_index()\n",
    "hotel_review_counts\n",
    "\n",
    "fig,ax = plt.subplots(figsize=(10,5))\n",
    "ax = sns.barplot(x=\"hotel_ID\", y=\"index\", hue=\"Is_Response\", data=hotel_review_counts)\n",
    "ax.set_ylabel('Number of reviews')\n",
    "ax.set_xlabel('Hotel ID')\n",
    "for item in ([ax.title, ax.xaxis.label, ax.yaxis.label] +\n",
    "             ax.get_xticklabels() + ax.get_yticklabels()):\n",
    "    item.set_fontsize(20)\n",
    "plt.savefig('./plots/hotel_breakdown.png', bbox='tight')"
   ]
  },
  {
   "cell_type": "code",
   "execution_count": null,
   "metadata": {},
   "outputs": [],
   "source": []
  },
  {
   "cell_type": "markdown",
   "metadata": {},
   "source": [
    "# Formulate plan of attack\n",
    "\n",
    "1. Decide which topics are in reviews...\n",
    "\n",
    "To do this we are gonna need to work with the descriptions. We'll need to parse each paragraph. Then clean each paragraph of all the unimportant words. Homogenize the words (lower case) and then tokenize the words. For this we are gonna use `nltk`. I think for this project we don't care if the words are broken up into single words. For the reciepes, we needed to keep the ingredients together, but for this we don't care as much.\n",
    "\n",
    "2. Assign score for each topic... \n",
    "\n",
    "Basically, we are gonna catagorize the reviews using the topics from 1. then assign a score some how. I dunno how to do it immediately. I'll think about it some more. \n"
   ]
  },
  {
   "cell_type": "code",
   "execution_count": 40,
   "metadata": {},
   "outputs": [
    {
     "name": "stderr",
     "output_type": "stream",
     "text": [
      "[nltk_data] Downloading package stopwords to /home/boada/nltk_data...\n",
      "[nltk_data]   Package stopwords is already up-to-date!\n"
     ]
    }
   ],
   "source": [
    "# clean the paragraphs\n",
    "\n",
    "import string\n",
    "\n",
    "# download stopwords list to filter out in sentences\n",
    "# nltk.download('stopwords')\n",
    "from nltk.corpus import stopwords\n",
    "\n",
    "# nltk.download('wordnet')\n",
    "from nltk.stem import WordNetLemmatizer\n",
    "lemma = WordNetLemmatizer()\n",
    "\n",
    "from nltk.stem.porter import PorterStemmer\n",
    "stemmer = PorterStemmer()"
   ]
  },
  {
   "cell_type": "code",
   "execution_count": 242,
   "metadata": {},
   "outputs": [],
   "source": [
    "def clean_descripts(descript):\n",
    "    \"\"\"\n",
    "    Processes text by 1) convert words to lowercase \n",
    "    and remove non alphabetic characters, 2)tokenize \n",
    "    the text and separate every sentence into a list \n",
    "    of words, 3)remove stopwords and stem each word \n",
    "    to the root\n",
    "\n",
    "    Parameters:\n",
    "    ----------\n",
    "    text : row with text in pandas column\n",
    "\n",
    "    Returns:\n",
    "    -------\n",
    "    clean_text : cleaned text based on processing\n",
    "    methods\n",
    "    \"\"\"\n",
    "    \n",
    "    # lower case all the words\n",
    "    descript = descript.lower()\n",
    "    \n",
    "    # remove all the punctuation\n",
    "    descript = descript.translate(str.maketrans('', '', string.punctuation))\n",
    "    \n",
    "    # 'tokenize the cleaned text'\n",
    "    tokenized = descript.split(' ')\n",
    "    \n",
    "    # stem or maybe lemmatize the words -- gonna start with stemming\n",
    "#     clean_text = [\n",
    "#         stemmer.stem(word) for word in tokenized\n",
    "#         if word not in stopwords.words('english')\n",
    "#     ]\n",
    "    clean_text = [\n",
    "        lemma.lemmatize(word) for word in tokenized\n",
    "        if word not in stopwords.words('english')\n",
    "    ]\n",
    "    \n",
    "\n",
    "    # keep things as a long string to go into count vectorizer\n",
    "    clean_text = ' '.join(clean_text)\n",
    "    \n",
    "    # return list of clean words\n",
    "    return clean_text"
   ]
  },
  {
   "cell_type": "code",
   "execution_count": null,
   "metadata": {},
   "outputs": [],
   "source": [
    "# clean the descriptions --takes a while to run ~ 5 minutes\n",
    "\n",
    "reviews['clean_descript'] = reviews.Description.apply(lambda x: clean_descripts(x))"
   ]
  },
  {
   "cell_type": "code",
   "execution_count": null,
   "metadata": {},
   "outputs": [],
   "source": [
    "reviews.head(10)"
   ]
  },
  {
   "cell_type": "code",
   "execution_count": null,
   "metadata": {},
   "outputs": [],
   "source": [
    "reviews.info()"
   ]
  },
  {
   "cell_type": "code",
   "execution_count": 238,
   "metadata": {},
   "outputs": [],
   "source": [
    "reviews.to_csv('./data/hotels_cleaned.csv', index=False)"
   ]
  },
  {
   "cell_type": "markdown",
   "metadata": {},
   "source": [
    "# Use something called GenSim\n",
    "\n",
    "After doing a bunch of googling. I see a lot of people using this package to do the topic analysis. "
   ]
  },
  {
   "cell_type": "code",
   "execution_count": null,
   "metadata": {},
   "outputs": [],
   "source": []
  },
  {
   "cell_type": "markdown",
   "metadata": {},
   "source": [
    "# Extract Keywords from each review\n",
    "\n",
    "I think we'll use TF-IDF to count the words and then extract the biggest keywords. \n",
    "\n",
    "This is inspired by: https://github.com/kavgan/nlp-in-practice/tree/master/tf-idf and I am gonna copy some code from that repo."
   ]
  },
  {
   "cell_type": "code",
   "execution_count": 241,
   "metadata": {},
   "outputs": [
    {
     "ename": "TypeError",
     "evalue": "expected string or bytes-like object",
     "output_type": "error",
     "traceback": [
      "\u001b[0;31m---------------------------------------------------------------------------\u001b[0m",
      "\u001b[0;31mTypeError\u001b[0m                                 Traceback (most recent call last)",
      "\u001b[0;32m<ipython-input-241-47dea8b8eaec>\u001b[0m in \u001b[0;36m<module>\u001b[0;34m\u001b[0m\n\u001b[1;32m      6\u001b[0m \u001b[0mcv\u001b[0m \u001b[0;34m=\u001b[0m \u001b[0mCountVectorizer\u001b[0m\u001b[0;34m(\u001b[0m\u001b[0mmin_df\u001b[0m\u001b[0;34m=\u001b[0m\u001b[0;36m0.1\u001b[0m\u001b[0;34m,\u001b[0m \u001b[0mmax_df\u001b[0m\u001b[0;34m=\u001b[0m\u001b[0;36m0.85\u001b[0m\u001b[0;34m,\u001b[0m \u001b[0mstop_words\u001b[0m\u001b[0;34m=\u001b[0m\u001b[0mstopwords\u001b[0m\u001b[0;34m.\u001b[0m\u001b[0mwords\u001b[0m\u001b[0;34m(\u001b[0m\u001b[0;34m'english'\u001b[0m\u001b[0;34m)\u001b[0m\u001b[0;34m,\u001b[0m \u001b[0mlowercase\u001b[0m\u001b[0;34m=\u001b[0m\u001b[0;32mFalse\u001b[0m\u001b[0;34m)\u001b[0m\u001b[0;34m\u001b[0m\u001b[0;34m\u001b[0m\u001b[0m\n\u001b[1;32m      7\u001b[0m \u001b[0;34m\u001b[0m\u001b[0m\n\u001b[0;32m----> 8\u001b[0;31m \u001b[0mword_count_vector\u001b[0m \u001b[0;34m=\u001b[0m \u001b[0mcv\u001b[0m\u001b[0;34m.\u001b[0m\u001b[0mfit_transform\u001b[0m\u001b[0;34m(\u001b[0m\u001b[0mreviews\u001b[0m\u001b[0;34m.\u001b[0m\u001b[0mclean_descript\u001b[0m\u001b[0;34m)\u001b[0m\u001b[0;34m\u001b[0m\u001b[0;34m\u001b[0m\u001b[0m\n\u001b[0m",
      "\u001b[0;32m~/.local/lib/python3.7/site-packages/sklearn/feature_extraction/text.py\u001b[0m in \u001b[0;36mfit_transform\u001b[0;34m(self, raw_documents, y)\u001b[0m\n\u001b[1;32m   1218\u001b[0m \u001b[0;34m\u001b[0m\u001b[0m\n\u001b[1;32m   1219\u001b[0m         vocabulary, X = self._count_vocab(raw_documents,\n\u001b[0;32m-> 1220\u001b[0;31m                                           self.fixed_vocabulary_)\n\u001b[0m\u001b[1;32m   1221\u001b[0m \u001b[0;34m\u001b[0m\u001b[0m\n\u001b[1;32m   1222\u001b[0m         \u001b[0;32mif\u001b[0m \u001b[0mself\u001b[0m\u001b[0;34m.\u001b[0m\u001b[0mbinary\u001b[0m\u001b[0;34m:\u001b[0m\u001b[0;34m\u001b[0m\u001b[0;34m\u001b[0m\u001b[0m\n",
      "\u001b[0;32m~/.local/lib/python3.7/site-packages/sklearn/feature_extraction/text.py\u001b[0m in \u001b[0;36m_count_vocab\u001b[0;34m(self, raw_documents, fixed_vocab)\u001b[0m\n\u001b[1;32m   1129\u001b[0m         \u001b[0;32mfor\u001b[0m \u001b[0mdoc\u001b[0m \u001b[0;32min\u001b[0m \u001b[0mraw_documents\u001b[0m\u001b[0;34m:\u001b[0m\u001b[0;34m\u001b[0m\u001b[0;34m\u001b[0m\u001b[0m\n\u001b[1;32m   1130\u001b[0m             \u001b[0mfeature_counter\u001b[0m \u001b[0;34m=\u001b[0m \u001b[0;34m{\u001b[0m\u001b[0;34m}\u001b[0m\u001b[0;34m\u001b[0m\u001b[0;34m\u001b[0m\u001b[0m\n\u001b[0;32m-> 1131\u001b[0;31m             \u001b[0;32mfor\u001b[0m \u001b[0mfeature\u001b[0m \u001b[0;32min\u001b[0m \u001b[0manalyze\u001b[0m\u001b[0;34m(\u001b[0m\u001b[0mdoc\u001b[0m\u001b[0;34m)\u001b[0m\u001b[0;34m:\u001b[0m\u001b[0;34m\u001b[0m\u001b[0;34m\u001b[0m\u001b[0m\n\u001b[0m\u001b[1;32m   1132\u001b[0m                 \u001b[0;32mtry\u001b[0m\u001b[0;34m:\u001b[0m\u001b[0;34m\u001b[0m\u001b[0;34m\u001b[0m\u001b[0m\n\u001b[1;32m   1133\u001b[0m                     \u001b[0mfeature_idx\u001b[0m \u001b[0;34m=\u001b[0m \u001b[0mvocabulary\u001b[0m\u001b[0;34m[\u001b[0m\u001b[0mfeature\u001b[0m\u001b[0;34m]\u001b[0m\u001b[0;34m\u001b[0m\u001b[0;34m\u001b[0m\u001b[0m\n",
      "\u001b[0;32m~/.local/lib/python3.7/site-packages/sklearn/feature_extraction/text.py\u001b[0m in \u001b[0;36m_analyze\u001b[0;34m(doc, analyzer, tokenizer, ngrams, preprocessor, decoder, stop_words)\u001b[0m\n\u001b[1;32m    103\u001b[0m             \u001b[0mdoc\u001b[0m \u001b[0;34m=\u001b[0m \u001b[0mpreprocessor\u001b[0m\u001b[0;34m(\u001b[0m\u001b[0mdoc\u001b[0m\u001b[0;34m)\u001b[0m\u001b[0;34m\u001b[0m\u001b[0;34m\u001b[0m\u001b[0m\n\u001b[1;32m    104\u001b[0m         \u001b[0;32mif\u001b[0m \u001b[0mtokenizer\u001b[0m \u001b[0;32mis\u001b[0m \u001b[0;32mnot\u001b[0m \u001b[0;32mNone\u001b[0m\u001b[0;34m:\u001b[0m\u001b[0;34m\u001b[0m\u001b[0;34m\u001b[0m\u001b[0m\n\u001b[0;32m--> 105\u001b[0;31m             \u001b[0mdoc\u001b[0m \u001b[0;34m=\u001b[0m \u001b[0mtokenizer\u001b[0m\u001b[0;34m(\u001b[0m\u001b[0mdoc\u001b[0m\u001b[0;34m)\u001b[0m\u001b[0;34m\u001b[0m\u001b[0;34m\u001b[0m\u001b[0m\n\u001b[0m\u001b[1;32m    106\u001b[0m         \u001b[0;32mif\u001b[0m \u001b[0mngrams\u001b[0m \u001b[0;32mis\u001b[0m \u001b[0;32mnot\u001b[0m \u001b[0;32mNone\u001b[0m\u001b[0;34m:\u001b[0m\u001b[0;34m\u001b[0m\u001b[0;34m\u001b[0m\u001b[0m\n\u001b[1;32m    107\u001b[0m             \u001b[0;32mif\u001b[0m \u001b[0mstop_words\u001b[0m \u001b[0;32mis\u001b[0m \u001b[0;32mnot\u001b[0m \u001b[0;32mNone\u001b[0m\u001b[0;34m:\u001b[0m\u001b[0;34m\u001b[0m\u001b[0;34m\u001b[0m\u001b[0m\n",
      "\u001b[0;31mTypeError\u001b[0m: expected string or bytes-like object"
     ]
    }
   ],
   "source": [
    "from sklearn.feature_extraction.text import CountVectorizer\n",
    "\n",
    "#create a vocabulary of words, \n",
    "#ignore words that appear in 85% of documents, \n",
    "#eliminate stop words\n",
    "cv = CountVectorizer(min_df=0.1, max_df=0.85, stop_words=stopwords.words('english'), lowercase=False)\n",
    "\n",
    "word_count_vector = cv.fit_transform(reviews.clean_descript)"
   ]
  },
  {
   "cell_type": "code",
   "execution_count": 136,
   "metadata": {},
   "outputs": [
    {
     "data": {
      "text/plain": [
       "(26521, 96)"
      ]
     },
     "execution_count": 136,
     "metadata": {},
     "output_type": "execute_result"
    }
   ],
   "source": [
    "word_count_vector.shape"
   ]
  },
  {
   "cell_type": "code",
   "execution_count": 189,
   "metadata": {},
   "outputs": [
    {
     "data": {
      "text/plain": [
       "(26521, 1037)"
      ]
     },
     "execution_count": 189,
     "metadata": {},
     "output_type": "execute_result"
    }
   ],
   "source": [
    "# let's limit the number of words we are gonna consider\n",
    "\n",
    "cv = CountVectorizer(min_df=0.01, max_df=0.5, stop_words=stopwords.words('english'), max_features=10000, lowercase=False)\n",
    "word_count_vector=cv.fit_transform(reviews.clean_descript)\n",
    "word_count_vector.shape"
   ]
  },
  {
   "cell_type": "code",
   "execution_count": 190,
   "metadata": {},
   "outputs": [
    {
     "data": {
      "text/plain": [
       "['stayed',\n",
       " 'husband',\n",
       " 'son',\n",
       " 'way',\n",
       " 'cruise',\n",
       " 'loved',\n",
       " 'great',\n",
       " 'experience',\n",
       " 'ask',\n",
       " 'north']"
      ]
     },
     "execution_count": 190,
     "metadata": {},
     "output_type": "execute_result"
    }
   ],
   "source": [
    "list(cv.vocabulary_.keys())[:10]"
   ]
  },
  {
   "cell_type": "code",
   "execution_count": 191,
   "metadata": {},
   "outputs": [
    {
     "data": {
      "text/plain": [
       "[]"
      ]
     },
     "execution_count": 191,
     "metadata": {},
     "output_type": "execute_result"
    }
   ],
   "source": [
    "list(cv.get_feature_names())[2000:2015]"
   ]
  },
  {
   "cell_type": "markdown",
   "metadata": {},
   "source": [
    "# Compute the IDF part\n",
    "\n",
    "This is the same as using `sklearn.feature_extraction.text.TfidfVectorizer` which rolls these two steps into a single call."
   ]
  },
  {
   "cell_type": "code",
   "execution_count": 192,
   "metadata": {},
   "outputs": [
    {
     "data": {
      "text/plain": [
       "TfidfTransformer(norm='l2', smooth_idf=True, sublinear_tf=False, use_idf=True)"
      ]
     },
     "execution_count": 192,
     "metadata": {},
     "output_type": "execute_result"
    }
   ],
   "source": [
    "from sklearn.feature_extraction.text import TfidfTransformer\n",
    "\n",
    "tfidf_transformer = TfidfTransformer(smooth_idf=True,use_idf=True)\n",
    "tfidf_transformer.fit(word_count_vector)"
   ]
  },
  {
   "cell_type": "code",
   "execution_count": 193,
   "metadata": {},
   "outputs": [],
   "source": [
    "# copied from github\n",
    "\n",
    "def sort_coo(coo_matrix):\n",
    "    tuples = zip(coo_matrix.col, coo_matrix.data)\n",
    "    return sorted(tuples, key=lambda x: (x[1], x[0]), reverse=True)\n",
    "\n",
    "def extract_topn_from_vector(feature_names, sorted_items, topn=10):\n",
    "    \"\"\"get the feature names and tf-idf score of top n items\"\"\"\n",
    "    \n",
    "    #use only topn items from vector\n",
    "    sorted_items = sorted_items[:topn]\n",
    "\n",
    "    score_vals = []\n",
    "    feature_vals = []\n",
    "\n",
    "    for idx, score in sorted_items:\n",
    "        fname = feature_names[idx]\n",
    "        \n",
    "        #keep track of feature name and its corresponding score\n",
    "        score_vals.append(round(score, 3))\n",
    "        feature_vals.append(feature_names[idx])\n",
    "\n",
    "    #create a tuples of feature,score\n",
    "    #results = zip(feature_vals,score_vals)\n",
    "    results= {}\n",
    "    for idx in range(len(feature_vals)):\n",
    "        results[feature_vals[idx]]=score_vals[idx]\n",
    "    \n",
    "    return results"
   ]
  },
  {
   "cell_type": "code",
   "execution_count": 240,
   "metadata": {},
   "outputs": [
    {
     "ename": "TypeError",
     "evalue": "expected string or bytes-like object",
     "output_type": "error",
     "traceback": [
      "\u001b[0;31m---------------------------------------------------------------------------\u001b[0m",
      "\u001b[0;31mTypeError\u001b[0m                                 Traceback (most recent call last)",
      "\u001b[0;32m<ipython-input-240-14c4a7707647>\u001b[0m in \u001b[0;36m<module>\u001b[0;34m\u001b[0m\n\u001b[1;32m      8\u001b[0m \u001b[0;34m\u001b[0m\u001b[0m\n\u001b[1;32m      9\u001b[0m \u001b[0;31m#generate tf-idf for the given document\u001b[0m\u001b[0;34m\u001b[0m\u001b[0;34m\u001b[0m\u001b[0;34m\u001b[0m\u001b[0m\n\u001b[0;32m---> 10\u001b[0;31m \u001b[0mtf_idf_vector\u001b[0m \u001b[0;34m=\u001b[0m \u001b[0mtfidf_transformer\u001b[0m\u001b[0;34m.\u001b[0m\u001b[0mtransform\u001b[0m\u001b[0;34m(\u001b[0m\u001b[0mcv\u001b[0m\u001b[0;34m.\u001b[0m\u001b[0mtransform\u001b[0m\u001b[0;34m(\u001b[0m\u001b[0;34m[\u001b[0m\u001b[0mdoc\u001b[0m\u001b[0;34m]\u001b[0m\u001b[0;34m)\u001b[0m\u001b[0;34m)\u001b[0m\u001b[0;34m\u001b[0m\u001b[0;34m\u001b[0m\u001b[0m\n\u001b[0m\u001b[1;32m     11\u001b[0m \u001b[0;34m\u001b[0m\u001b[0m\n\u001b[1;32m     12\u001b[0m \u001b[0;31m#sort the tf-idf vectors by descending order of scores\u001b[0m\u001b[0;34m\u001b[0m\u001b[0;34m\u001b[0m\u001b[0;34m\u001b[0m\u001b[0m\n",
      "\u001b[0;32m~/.local/lib/python3.7/site-packages/sklearn/feature_extraction/text.py\u001b[0m in \u001b[0;36mtransform\u001b[0;34m(self, raw_documents)\u001b[0m\n\u001b[1;32m   1268\u001b[0m \u001b[0;34m\u001b[0m\u001b[0m\n\u001b[1;32m   1269\u001b[0m         \u001b[0;31m# use the same matrix-building strategy as fit_transform\u001b[0m\u001b[0;34m\u001b[0m\u001b[0;34m\u001b[0m\u001b[0;34m\u001b[0m\u001b[0m\n\u001b[0;32m-> 1270\u001b[0;31m         \u001b[0m_\u001b[0m\u001b[0;34m,\u001b[0m \u001b[0mX\u001b[0m \u001b[0;34m=\u001b[0m \u001b[0mself\u001b[0m\u001b[0;34m.\u001b[0m\u001b[0m_count_vocab\u001b[0m\u001b[0;34m(\u001b[0m\u001b[0mraw_documents\u001b[0m\u001b[0;34m,\u001b[0m \u001b[0mfixed_vocab\u001b[0m\u001b[0;34m=\u001b[0m\u001b[0;32mTrue\u001b[0m\u001b[0;34m)\u001b[0m\u001b[0;34m\u001b[0m\u001b[0;34m\u001b[0m\u001b[0m\n\u001b[0m\u001b[1;32m   1271\u001b[0m         \u001b[0;32mif\u001b[0m \u001b[0mself\u001b[0m\u001b[0;34m.\u001b[0m\u001b[0mbinary\u001b[0m\u001b[0;34m:\u001b[0m\u001b[0;34m\u001b[0m\u001b[0;34m\u001b[0m\u001b[0m\n\u001b[1;32m   1272\u001b[0m             \u001b[0mX\u001b[0m\u001b[0;34m.\u001b[0m\u001b[0mdata\u001b[0m\u001b[0;34m.\u001b[0m\u001b[0mfill\u001b[0m\u001b[0;34m(\u001b[0m\u001b[0;36m1\u001b[0m\u001b[0;34m)\u001b[0m\u001b[0;34m\u001b[0m\u001b[0;34m\u001b[0m\u001b[0m\n",
      "\u001b[0;32m~/.local/lib/python3.7/site-packages/sklearn/feature_extraction/text.py\u001b[0m in \u001b[0;36m_count_vocab\u001b[0;34m(self, raw_documents, fixed_vocab)\u001b[0m\n\u001b[1;32m   1129\u001b[0m         \u001b[0;32mfor\u001b[0m \u001b[0mdoc\u001b[0m \u001b[0;32min\u001b[0m \u001b[0mraw_documents\u001b[0m\u001b[0;34m:\u001b[0m\u001b[0;34m\u001b[0m\u001b[0;34m\u001b[0m\u001b[0m\n\u001b[1;32m   1130\u001b[0m             \u001b[0mfeature_counter\u001b[0m \u001b[0;34m=\u001b[0m \u001b[0;34m{\u001b[0m\u001b[0;34m}\u001b[0m\u001b[0;34m\u001b[0m\u001b[0;34m\u001b[0m\u001b[0m\n\u001b[0;32m-> 1131\u001b[0;31m             \u001b[0;32mfor\u001b[0m \u001b[0mfeature\u001b[0m \u001b[0;32min\u001b[0m \u001b[0manalyze\u001b[0m\u001b[0;34m(\u001b[0m\u001b[0mdoc\u001b[0m\u001b[0;34m)\u001b[0m\u001b[0;34m:\u001b[0m\u001b[0;34m\u001b[0m\u001b[0;34m\u001b[0m\u001b[0m\n\u001b[0m\u001b[1;32m   1132\u001b[0m                 \u001b[0;32mtry\u001b[0m\u001b[0;34m:\u001b[0m\u001b[0;34m\u001b[0m\u001b[0;34m\u001b[0m\u001b[0m\n\u001b[1;32m   1133\u001b[0m                     \u001b[0mfeature_idx\u001b[0m \u001b[0;34m=\u001b[0m \u001b[0mvocabulary\u001b[0m\u001b[0;34m[\u001b[0m\u001b[0mfeature\u001b[0m\u001b[0;34m]\u001b[0m\u001b[0;34m\u001b[0m\u001b[0;34m\u001b[0m\u001b[0m\n",
      "\u001b[0;32m~/.local/lib/python3.7/site-packages/sklearn/feature_extraction/text.py\u001b[0m in \u001b[0;36m_analyze\u001b[0;34m(doc, analyzer, tokenizer, ngrams, preprocessor, decoder, stop_words)\u001b[0m\n\u001b[1;32m    103\u001b[0m             \u001b[0mdoc\u001b[0m \u001b[0;34m=\u001b[0m \u001b[0mpreprocessor\u001b[0m\u001b[0;34m(\u001b[0m\u001b[0mdoc\u001b[0m\u001b[0;34m)\u001b[0m\u001b[0;34m\u001b[0m\u001b[0;34m\u001b[0m\u001b[0m\n\u001b[1;32m    104\u001b[0m         \u001b[0;32mif\u001b[0m \u001b[0mtokenizer\u001b[0m \u001b[0;32mis\u001b[0m \u001b[0;32mnot\u001b[0m \u001b[0;32mNone\u001b[0m\u001b[0;34m:\u001b[0m\u001b[0;34m\u001b[0m\u001b[0;34m\u001b[0m\u001b[0m\n\u001b[0;32m--> 105\u001b[0;31m             \u001b[0mdoc\u001b[0m \u001b[0;34m=\u001b[0m \u001b[0mtokenizer\u001b[0m\u001b[0;34m(\u001b[0m\u001b[0mdoc\u001b[0m\u001b[0;34m)\u001b[0m\u001b[0;34m\u001b[0m\u001b[0;34m\u001b[0m\u001b[0m\n\u001b[0m\u001b[1;32m    106\u001b[0m         \u001b[0;32mif\u001b[0m \u001b[0mngrams\u001b[0m \u001b[0;32mis\u001b[0m \u001b[0;32mnot\u001b[0m \u001b[0;32mNone\u001b[0m\u001b[0;34m:\u001b[0m\u001b[0;34m\u001b[0m\u001b[0;34m\u001b[0m\u001b[0m\n\u001b[1;32m    107\u001b[0m             \u001b[0;32mif\u001b[0m \u001b[0mstop_words\u001b[0m \u001b[0;32mis\u001b[0m \u001b[0;32mnot\u001b[0m \u001b[0;32mNone\u001b[0m\u001b[0;34m:\u001b[0m\u001b[0;34m\u001b[0m\u001b[0;34m\u001b[0m\u001b[0m\n",
      "\u001b[0;31mTypeError\u001b[0m: expected string or bytes-like object"
     ]
    }
   ],
   "source": [
    "indx = 4000\n",
    "\n",
    "# you only needs to do this once\n",
    "feature_names = cv.get_feature_names()\n",
    "\n",
    "# get the document that we want to extract keywords from\n",
    "doc=reviews.iloc[indx].clean_descript\n",
    "\n",
    "#generate tf-idf for the given document\n",
    "tf_idf_vector = tfidf_transformer.transform(cv.transform([doc]))\n",
    "\n",
    "#sort the tf-idf vectors by descending order of scores\n",
    "sorted_items = sort_coo(tf_idf_vector.tocoo())\n",
    "\n",
    "#extract only the top n; n here is 10\n",
    "keywords = extract_topn_from_vector(feature_names, sorted_items, 20)\n",
    "\n",
    "# now print the results\n",
    "\n",
    "print(\"\\n=====Description=====\")\n",
    "print(reviews.iloc[indx].Description)\n",
    "print(\"\\n===Keywords===\")\n",
    "for k in keywords:\n",
    "    print(k, keywords[k])"
   ]
  },
  {
   "cell_type": "markdown",
   "metadata": {},
   "source": [
    "# Clustering?\n",
    "\n",
    "I did some more reading and people have used clusters to identify broad groups of topics. "
   ]
  },
  {
   "cell_type": "code",
   "execution_count": 145,
   "metadata": {},
   "outputs": [],
   "source": [
    "from sklearn.cluster import KMeans"
   ]
  },
  {
   "cell_type": "code",
   "execution_count": 146,
   "metadata": {},
   "outputs": [],
   "source": [
    "k_clusters = 10\n",
    "model = KMeans(n_clusters=k_clusters, max_iter=100, n_init=1)"
   ]
  },
  {
   "cell_type": "code",
   "execution_count": 147,
   "metadata": {},
   "outputs": [
    {
     "data": {
      "text/plain": [
       "KMeans(algorithm='auto', copy_x=True, init='k-means++', max_iter=100,\n",
       "       n_clusters=10, n_init=1, n_jobs=None, precompute_distances='auto',\n",
       "       random_state=None, tol=0.0001, verbose=0)"
      ]
     },
     "execution_count": 147,
     "metadata": {},
     "output_type": "execute_result"
    }
   ],
   "source": [
    "tf_idf_vector = tfidf_transformer.transform(cv.transform(reviews.clean_descript))\n",
    "model.fit(tf_idf_vector)"
   ]
  },
  {
   "cell_type": "code",
   "execution_count": 148,
   "metadata": {},
   "outputs": [
    {
     "data": {
      "text/plain": [
       "'spent week hotel young child staff friendly seems genuinely work well together housekeeping front desk staff friendly knowledgeable also breakfast  plentiful continental breakfast included jimmy dean biscuit boiled egg perfect hot tub pool wellmaintained towel always supplied cant say enough good thing hotel really love hotel clean sheet comparable one would home complimentary computer printer helpful little market wonderful plus shuttle service dependable huge factor plus using shuttle received card driver could call ask shuttle room spacious odor room carpet dye hotel first choice san antonio also hotel quiet hear people room next door'"
      ]
     },
     "execution_count": 148,
     "metadata": {},
     "output_type": "execute_result"
    }
   ],
   "source": [
    "doc"
   ]
  },
  {
   "cell_type": "code",
   "execution_count": 150,
   "metadata": {},
   "outputs": [
    {
     "data": {
      "text/plain": [
       "array([6], dtype=int32)"
      ]
     },
     "execution_count": 150,
     "metadata": {},
     "output_type": "execute_result"
    }
   ],
   "source": [
    "model.predict(tfidf_transformer.transform(cv.transform([doc])))"
   ]
  },
  {
   "cell_type": "code",
   "execution_count": 196,
   "metadata": {},
   "outputs": [
    {
     "data": {
      "text/plain": [
       "6"
      ]
     },
     "execution_count": 196,
     "metadata": {},
     "output_type": "execute_result"
    }
   ],
   "source": [
    "model.labels_[3000]"
   ]
  },
  {
   "cell_type": "code",
   "execution_count": 197,
   "metadata": {},
   "outputs": [
    {
     "data": {
      "text/plain": [
       "7     I found the hotel clean and nicely located. Go...\n",
       "9     We stayed here for - nights and were really ha...\n",
       "10    This is everything you could want from a hotel...\n",
       "22    Okay the hotel-motel may not be a - star appea...\n",
       "31    I agree, not fancy. But everything we needed. ...\n",
       "35    The Good - The room was really just my taste. ...\n",
       "49    Just loved the Hilton Garden Inn in Tribeca-So...\n",
       "66    Booked this hotel on a special deal, stay - ni...\n",
       "68    An excellent hotel - for business or pleasure....\n",
       "73    I stayed here one night on a business trip. Go...\n",
       "Name: Description, dtype: object"
      ]
     },
     "execution_count": 197,
     "metadata": {},
     "output_type": "execute_result"
    }
   ],
   "source": [
    "reviews.Description[model.labels_==6][:10]"
   ]
  },
  {
   "cell_type": "code",
   "execution_count": 201,
   "metadata": {},
   "outputs": [
    {
     "data": {
      "text/plain": [
       "'Okay the hotel-motel may not be a - star appearance and the rooms are well they are rooms.. but for the money - I have a fridge, hot breakfast, free internet, nice pool and pool hang out area, quiet neighborhood day and night yet only blocks from stores, waterfront, and restaurants and a nice sized balcony and free milk and cookies at -pm. Not bad at all... \\r\\nBut it gets better - I am a priority club member (but anyone can be.. just sign up for free) and I must say its been a long time since I was greeted so kindly on check in (for being a valued priority club member), and given a check in present (lotion and razor in a beautiful carrying bag) and upgraded to a room looking towards the bay and allowed early check in (-- am) and a managers greeting from ----- every weekday with FREE ALCOHOL and nibbles. Okay.. I admit... I felt more \"\"\"\"\"\"\"\"\"\"\"\"\"\"\"\"\"\"\"\"\"\"\"\"\"\"\"\"\"\"\"\"special\"\"\"\"\"\"\"\"\"\"\"\"\"\"\"\"\"\"\"\"\"\"\"\"\"\"\"\"\"\"\"\" staying here than staying at the Hilton last week... and holiday Inn costs almost half as much...'"
      ]
     },
     "execution_count": 201,
     "metadata": {},
     "output_type": "execute_result"
    }
   ],
   "source": [
    "reviews.Description[model.labels_==6][:10][22]"
   ]
  },
  {
   "cell_type": "markdown",
   "metadata": {},
   "source": [
    "# LDA?"
   ]
  },
  {
   "cell_type": "code",
   "execution_count": 203,
   "metadata": {},
   "outputs": [],
   "source": [
    "from sklearn.decomposition import NMF, LatentDirichletAllocation"
   ]
  },
  {
   "cell_type": "code",
   "execution_count": 207,
   "metadata": {},
   "outputs": [],
   "source": [
    "def display_topics(H, W, feature_names, documents, no_top_words, no_top_documents):\n",
    "    for topic_idx, topic in enumerate(H):\n",
    "        print()\n",
    "        print(\"Topic {}:\".format(topic_idx),\", \".join([feature_names[i]\n",
    "                        for i in topic.argsort()[:-no_top_words - 1:-1]]) )\n",
    "        print()\n",
    "        top_doc_indices = np.argsort( W[:,topic_idx] )[::-1][0:no_top_documents]\n",
    "        for doc_index in top_doc_indices:\n",
    "            print(documents[doc_index])\n",
    "\n",
    "# NMF is able to use tf-idf\n",
    "tfidf_vectorizer = TfidfVectorizer(max_df=0.95, min_df=2, stop_words='english')\n",
    "tfidf = tfidf_vectorizer.fit_transform(reviews.clean_descript)\n",
    "tfidf_feature_names = tfidf_vectorizer.get_feature_names()\n",
    "\n",
    "\n",
    "no_topics = 5\n",
    "no_top_words = 6\n",
    "no_top_documents = 1\n",
    "\n",
    "# Run NMF\n",
    "nmf_model = NMF(n_components=no_topics, random_state=1, alpha=.1, l1_ratio=.5, init='nndsvd').fit(tfidf)\n",
    "nmf_W = nmf_model.transform(tfidf)\n",
    "nmf_H = nmf_model.components_"
   ]
  },
  {
   "cell_type": "code",
   "execution_count": 208,
   "metadata": {},
   "outputs": [
    {
     "name": "stdout",
     "output_type": "stream",
     "text": [
      "NMF Topics\n",
      "\n",
      "Topic 0: room, night, bed, hotel, floor, bathroom\n",
      "\n",
      "hotel  park avenue maybe im city rube street number caused u problem first taxi driver thought wanted park avenue th took u  block needed eventually learned tell driver wanted  park avenue th th\r\n",
      "the hotel lobby nice couch lemon water available staff helpful one bellman saw waiting line front desk didnt want wait longer turned leave asked anything needed asked towel sent right away also staff able give u direction great nearby restaurant still served breakfast noon pershing square restaurant across grand central stationawesome french toast\r\n",
      "we hadnt asked handicapped room thats got second floorroom  room ok size ceiling hotel bit lower im used room window frosted outside second nonopening window pane inside likely reduce noise based layout hotel im fairly certain window faced tiny airspace next building \r\n",
      "sufficient light come window daytime opened blind didnt feel like basement lack fresh air wasnt big deal except fact bathroom fan didnt work \r\n",
      "speaking bathroom huge tubjust shower separated rest bathroom sliding vinyl shower curtain initially fine werent used handicapped shower worked took shower next morning let water hit curtain caused curtain bow water leave shower pan area sunk half inch lower rest bathroom floor didnt think would problem since bathroom floor drain wrong slope floor bathroom right got shower water made bathroom way front door room know needed towel \r\n",
      "as cleaning water saw bathroom metal door jamb rusted wood trim outside bathroom door looked bit moldyi clearly wasnt first person made shower curtain mistake \r\n",
      "my wife decided move room tub talked front desk staff cheerfully gave u room key room fifth floor could check room   think room bigger first bathroom postagestamp sized tub bit deeper cake pan room also smelled bit musty wife bad asthma decided stay existing room\r\n",
      "the bed comfortable good selection pillow never heard noise street next door\r\n",
      "they provide  tv room desk directly across bed wanted watch tv look sideways tv signal appeared satellite high def channel selection fairly lowwhen hit channel  pretty much done didnt try payper view service left laptop home dont know wifi minibar provided didnt try anything inside wife eat one tiny bottle cashew top minifridge cost  grrrr\r\n",
      "instead closet standalone armoire shelf drawer along tiny safe clothes bar wife happy included hair dryer room since left home provide iron ironing board pad ironing board paper thin\r\n",
      "the room carpet linen clean plenty lamp room housekeeping good job cleaning room out\r\n",
      "the exercise room tiny opened ceiling bit give room runstep without hitting head feel claustrophobic good room one funny thing saw sign elsewhere hotel advertising hula hoop jump rope exercise room yipee great amenity ironically exercise room likely small even use equipment plus im pretty sure saw front desk guy exercising thereyou wouldnt forget guy hair\r\n",
      "the two elevator also small im talking enter stepsideways small youve got luggage people catching next elevator took stair time wait elevator could longish wife exercise freak\r\n",
      "they business center basementtwo macintosh computer color printer desk hallway hour prorated ill wait check email home\r\n",
      "no pool\r\n",
      "one nice thing offered nofee luggageholding service held luggage u checked caught train home\r\n",
      "we never tried lobby restaurantbar used room service \r\n",
      "checkout quick though dont common practice sliding room bill door date check out\r\n",
      "we paid  per night plus  per night tax checkin  pm checkout noon minute past noon checking didnt get hurryalong phone call reminder\r\n",
      "overall satisfied room price stay hotel especially happy level service staff provided u would go back next time vist manhattan\n",
      "\n",
      "Topic 1: great, location, place, service, room, view\n",
      "\n",
      "great hotel great room great service great location\n",
      "\n",
      "Topic 2: new, time, square, york, hotel, central\n",
      "\n",
      "nice hotel new york city around corner  street  minute away time square perfect stay new york breakfast included room rate \r\n",
      "hotel next bus terminal subway station\n",
      "\n",
      "Topic 3: hotel, staff, stay, friendly, helpful, service\n",
      "\n",
      "wonderful hotel staff friendly helpful hotel clean welcoming\n",
      "\n",
      "Topic 4: good, nice, breakfast, free, clean, hotel\n",
      "\n",
      "hotel purdy good\n",
      "--------------\n"
     ]
    }
   ],
   "source": [
    "print(\"NMF Topics\")\n",
    "display_topics(nmf_H, nmf_W, tfidf_feature_names, reviews.clean_descript, no_top_words, no_top_documents)\n",
    "print(\"--------------\")"
   ]
  },
  {
   "cell_type": "code",
   "execution_count": 210,
   "metadata": {},
   "outputs": [
    {
     "name": "stdout",
     "output_type": "stream",
     "text": [
      "LDA Topics\n",
      "\n",
      "Topic 0: la, hollywood, studio, concert, universal, beach\n",
      "\n",
      "e un hotel con una ubicacion privilegiada cerca de todo dentro de lo mejor de chicago fuera ideal alguien que hable español en frente del recibidor lo unico malo e el aire acondicionado muy viejo el baño muy pequeño tiene desayuno incluido\n",
      "\n",
      "Topic 1: meeting, service, conference, courtyard, marriott, driver\n",
      "\n",
      "following provided excellent service us\r\n",
      "kelly norton juan verduzco jr restaurant\r\n",
      "maricarmen crus room\n",
      "\n",
      "Topic 2: room, hotel, nice, bed, night, good\n",
      "\n",
      "upon arrival\r\n",
      "took time pulling reservation check valet parking  day learned needed bring bag put cart could take luggage cart outside car due fact step leading elevator thought id let mobility impairment know ramp go stair elevator one party noticed something ordinary\r\n",
      "the room\r\n",
      "the room spacious stayed two bed room main bedroom area small closet large powder room connected smallish bathroom semifull kitchen breakfast nook powder room present surprise featured oldschool vanity adjacent outdated bathroom however even though outdated bath body work toilettries drain bad draining shower kitchen advertized full kitchen fullsize fridge old fashioned toaster range sink counterscabinets  along cutlery cookware dinnerware oven microwave\r\n",
      "cleanliness\r\n",
      "on arrival mm floor ace bandage behind curtain threw away room serviced daily otherwise\r\n",
      "wifi wired connection wireless\r\n",
      "location excellent  block metro station right next gwu ish block mall  block white house cv right next door starbucks nearby obviously dc good view shouldnt reason choosing hotel though also note great deal street noise siren garbage truck college kid etc\r\n",
      "price booked rate discount hotel website cheapest expected quality area wanted close without paying  night overall good deal\n",
      "\n",
      "Topic 3: hotel, room, great, staff, location, stay\n",
      "\n",
      "stayed belvedere  night november  lady age    room ample space  room never felt crowded even suitcase daily purchase made hotel clean warm comfortable staff nice helpful early every morning gone full day sightseeing shopping time sit around hotel find fault much see city thoroughly enjoyed experience hotel would defo go back \r\n",
      "it perfect location block time square within walking distance macy th avenue rockefellar centre central park walked absolutely everywere better way get feel city would recommend la pigelle corner breakfast hurleys restaurant one block hotel steak also felt extremely safe around hotel city general hotel perfect come back full day walking sightseeing shopping room cleaned everyday fresh towel placed bathroom \r\n",
      "we also hop hop tour found great help got u place may seen otherwise worth   hour useage totr absolutely brilliant view amazing would also recommed using staten island ferry view statue liberty free give excellent view woodbury common also worth trip loved everything city hotel perfect base u come back to\r\n",
      "it may first visit nyc belvedere certainly last\n",
      "\n",
      "Topic 4: hotel, staff, service, stay, room, great\n",
      "\n",
      "first time ever felt compelled write review hotel however service recieved stay extended stay reflection drive columbus ohio requires write looking hotel specializes customer service cleanliness comfort place issue home move repair  week came extended stay prayed time pas quickly came time leave didnt want every person hotel manager anyone associated hotel great could ask better service ask day night especially want give manager matt kudos running hotel traveled extensively work well pleasure say far one best hotel ever stayed come customer service\n"
     ]
    }
   ],
   "source": [
    "\n",
    "# CountVectorizer converts a set of documents to a matrix of token counts\n",
    "tf_vectorizer = CountVectorizer(max_df=0.85, min_df=2, stop_words='english')\n",
    "\n",
    "# fit_transform learns the vocabulary dictionary and returns a term-document matrix\n",
    "tf = tf_vectorizer.fit_transform(reviews.clean_descript)\n",
    "tf_feature_names = tf_vectorizer.get_feature_names()\n",
    "\n",
    "# Run LDA\n",
    "lda_model = LatentDirichletAllocation(n_components=no_topics, max_iter=5, learning_method='online', learning_offset=50.,random_state=0).fit(tf)\n",
    "lda_W = lda_model.transform(tf)\n",
    "lda_H = lda_model.components_\n",
    "\n",
    "print(\"LDA Topics\")\n",
    "display_topics(lda_H, lda_W, tf_feature_names, reviews.clean_descript, no_top_words, no_top_documents)"
   ]
  },
  {
   "cell_type": "markdown",
   "metadata": {},
   "source": [
    "https://github.com/frcamacho/HappyHotel/blob/master/HappyHotel-Topic%20model.ipynb\n",
    "\n",
    "https://github.com/celialeddy/Insight_Data_Challenges/blob/master/Happy_Hotel/Happy%20Hotel%20Data%20Challenge.ipynb"
   ]
  }
 ],
 "metadata": {
  "kernelspec": {
   "display_name": "Python 3",
   "language": "python",
   "name": "python3"
  },
  "language_info": {
   "codemirror_mode": {
    "name": "ipython",
    "version": 3
   },
   "file_extension": ".py",
   "mimetype": "text/x-python",
   "name": "python",
   "nbconvert_exporter": "python",
   "pygments_lexer": "ipython3",
   "version": "3.7.1"
  }
 },
 "nbformat": 4,
 "nbformat_minor": 4
}
